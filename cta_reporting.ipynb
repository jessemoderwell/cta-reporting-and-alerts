{
 "cells": [
  {
   "cell_type": "code",
   "execution_count": 1,
   "id": "9a79959d",
   "metadata": {},
   "outputs": [],
   "source": [
    "import requests\n",
    "import json\n",
    "import xml.etree.ElementTree as ElementTree\n",
    "import xmltodict\n",
    "import sqlite3\n",
    "from kafka import KafkaProducer, KafkaConsumer\n",
    "from kafka.admin import KafkaAdminClient, NewTopic\n",
    "import json\n",
    "import time\n",
    "\n",
    "from config import CTA_API_KEY"
   ]
  },
  {
   "cell_type": "markdown",
   "id": "7e19e023",
   "metadata": {},
   "source": [
    "## Arrivals API"
   ]
  },
  {
   "cell_type": "code",
   "execution_count": null,
   "id": "06519288",
   "metadata": {},
   "outputs": [],
   "source": [
    "params = {'mapid': 40630,\n",
    "         'stpid': 30122,\n",
    "          'max': 3,\n",
    "         'key': CTA_API_KEY,\n",
    "         'outputType':'JSON'}"
   ]
  },
  {
   "cell_type": "code",
   "execution_count": null,
   "id": "69cd1553",
   "metadata": {},
   "outputs": [],
   "source": [
    "response = requests.get(\"http://lapi.transitchicago.com/api/1.0/ttarrivals.aspx\", params=params)"
   ]
  },
  {
   "cell_type": "code",
   "execution_count": null,
   "id": "2c3f02ff",
   "metadata": {},
   "outputs": [],
   "source": [
    "response.json()"
   ]
  },
  {
   "cell_type": "code",
   "execution_count": null,
   "id": "8ec9fb9f",
   "metadata": {
    "scrolled": true
   },
   "outputs": [],
   "source": [
    "root = ElementTree.fromstring(response.text)"
   ]
  },
  {
   "cell_type": "code",
   "execution_count": null,
   "id": "1e63632b",
   "metadata": {
    "scrolled": true
   },
   "outputs": [],
   "source": [
    "# child = \n",
    "root.getchildren()"
   ]
  },
  {
   "cell_type": "code",
   "execution_count": null,
   "id": "ac4e27b3",
   "metadata": {},
   "outputs": [],
   "source": [
    "child.text"
   ]
  },
  {
   "cell_type": "code",
   "execution_count": null,
   "id": "dba4a111",
   "metadata": {},
   "outputs": [],
   "source": [
    "def xml_to_tree(node):\n",
    "    curr = {}\n",
    "    eta_num = 1\n",
    "    for child in node.getchildren():\n",
    "        child_tag = child.tag\n",
    "        if child.getchildren():\n",
    "            if child_tag == 'eta':\n",
    "                child_tag += f'_{eta_num}'\n",
    "                eta_num += 1\n",
    "            curr[child_tag] = xml_to_tree(child)\n",
    "        else:\n",
    "            curr[child_tag] = child.text\n",
    "    \n",
    "    return curr"
   ]
  },
  {
   "cell_type": "code",
   "execution_count": null,
   "id": "7a2b3942",
   "metadata": {},
   "outputs": [],
   "source": [
    "response.text"
   ]
  },
  {
   "cell_type": "code",
   "execution_count": null,
   "id": "9790a471",
   "metadata": {
    "scrolled": false
   },
   "outputs": [],
   "source": [
    "print(xml_to_tree(root))"
   ]
  },
  {
   "cell_type": "code",
   "execution_count": null,
   "id": "2cf11231",
   "metadata": {},
   "outputs": [],
   "source": [
    "data_dict = xmltodict.parse(response.content)"
   ]
  },
  {
   "cell_type": "markdown",
   "id": "94d69137",
   "metadata": {},
   "source": [
    "## Follow this train API"
   ]
  },
  {
   "cell_type": "code",
   "execution_count": null,
   "id": "7073cd59",
   "metadata": {},
   "outputs": [],
   "source": [
    "params = {'runnumber':831,\n",
    "         'key': CTA_API_KEY,\n",
    "         'outputType':'JSON'}"
   ]
  },
  {
   "cell_type": "code",
   "execution_count": null,
   "id": "105f34cb",
   "metadata": {},
   "outputs": [],
   "source": [
    "response = requests.get(\"https://lapi.transitchicago.com/api/1.0/ttfollow.aspx\", params=params)"
   ]
  },
  {
   "cell_type": "code",
   "execution_count": null,
   "id": "c9c82c66",
   "metadata": {},
   "outputs": [],
   "source": [
    "response.json()"
   ]
  },
  {
   "cell_type": "markdown",
   "id": "bddfdb1a",
   "metadata": {},
   "source": [
    "## Locations API"
   ]
  },
  {
   "cell_type": "code",
   "execution_count": null,
   "id": "1e61d647",
   "metadata": {},
   "outputs": [],
   "source": [
    "params = {'rt':'red',\n",
    "         'key': CTA_API_KEY,\n",
    "         'outputType':'JSON'}"
   ]
  },
  {
   "cell_type": "code",
   "execution_count": null,
   "id": "2818551f",
   "metadata": {},
   "outputs": [],
   "source": [
    "response = requests.get(\"https://lapi.transitchicago.com/api/1.0/ttpositions.aspx\", params=params)"
   ]
  },
  {
   "cell_type": "code",
   "execution_count": null,
   "id": "a30f2357",
   "metadata": {},
   "outputs": [],
   "source": [
    "response.json()"
   ]
  },
  {
   "cell_type": "markdown",
   "id": "7ad3fe28",
   "metadata": {},
   "source": [
    "## Database for storing train run delays per stop"
   ]
  },
  {
   "cell_type": "code",
   "execution_count": null,
   "id": "f2cc64e6",
   "metadata": {},
   "outputs": [],
   "source": [
    "conn = sqlite3.connect(\"cta_trains.db\")\n",
    "cur = conn.cursor()"
   ]
  },
  {
   "cell_type": "code",
   "execution_count": null,
   "id": "82a303ae",
   "metadata": {},
   "outputs": [],
   "source": [
    "# Create train_delays table\n",
    "cur.execute(\"\"\"\n",
    "create table train_delays\n",
    "(train_line string, run_number int, day date,\n",
    "previous_station string, next_station string, \n",
    "delay_in_minutes float)\n",
    "\"\"\")"
   ]
  },
  {
   "cell_type": "markdown",
   "id": "bbe67d2b",
   "metadata": {},
   "source": [
    "## Fetch latest train data"
   ]
  },
  {
   "cell_type": "code",
   "execution_count": 2,
   "id": "912af9c5",
   "metadata": {},
   "outputs": [],
   "source": [
    "def fetch_latest_etas(train_line: str):\n",
    "    params = {'rt':train_line,\n",
    "         'key': CTA_API_KEY,\n",
    "         'outputType':'JSON'}\n",
    "    \n",
    "    response = requests.get(\"https://lapi.transitchicago.com/api/1.0/ttpositions.aspx\", params=params)\n",
    "    \n",
    "    return response.json()"
   ]
  },
  {
   "cell_type": "code",
   "execution_count": 3,
   "id": "bbd5595b",
   "metadata": {},
   "outputs": [
    {
     "data": {
      "text/plain": [
       "{'ctatt': {'tmst': '2024-10-22T21:18:29',\n",
       "  'errCd': '0',\n",
       "  'errNm': None,\n",
       "  'route': [{'@name': 'red',\n",
       "    'train': [{'rn': '823',\n",
       "      'destSt': '30173',\n",
       "      'destNm': 'Howard',\n",
       "      'trDr': '1',\n",
       "      'nextStaId': '41200',\n",
       "      'nextStpId': '30229',\n",
       "      'nextStaNm': 'Argyle',\n",
       "      'prdt': '2024-10-22T21:18:03',\n",
       "      'arrT': '2024-10-22T21:21:03',\n",
       "      'isApp': '0',\n",
       "      'isDly': '0',\n",
       "      'flags': None,\n",
       "      'lat': '41.96427',\n",
       "      'lon': '-87.65759',\n",
       "      'heading': '344'},\n",
       "     {'rn': '824',\n",
       "      'destSt': '30173',\n",
       "      'destNm': 'Howard',\n",
       "      'trDr': '1',\n",
       "      'nextStaId': '40540',\n",
       "      'nextStpId': '30105',\n",
       "      'nextStaNm': 'Wilson',\n",
       "      'prdt': '2024-10-22T21:17:50',\n",
       "      'arrT': '2024-10-22T21:20:50',\n",
       "      'isApp': '0',\n",
       "      'isDly': '0',\n",
       "      'flags': None,\n",
       "      'lat': '41.95377',\n",
       "      'lon': '-87.65493',\n",
       "      'heading': '271'},\n",
       "     {'rn': '827',\n",
       "      'destSt': '30173',\n",
       "      'destNm': 'Howard',\n",
       "      'trDr': '1',\n",
       "      'nextStaId': '41400',\n",
       "      'nextStpId': '30269',\n",
       "      'nextStaNm': 'Roosevelt',\n",
       "      'prdt': '2024-10-22T21:16:52',\n",
       "      'arrT': '2024-10-22T21:18:52',\n",
       "      'isApp': '0',\n",
       "      'isDly': '0',\n",
       "      'flags': None,\n",
       "      'lat': '41.85321',\n",
       "      'lon': '-87.63097',\n",
       "      'heading': '343'},\n",
       "     {'rn': '829',\n",
       "      'destSt': '30089',\n",
       "      'destNm': '95th/Dan Ryan',\n",
       "      'trDr': '5',\n",
       "      'nextStaId': '40910',\n",
       "      'nextStpId': '30178',\n",
       "      'nextStaNm': '63rd',\n",
       "      'prdt': '2024-10-22T21:18:12',\n",
       "      'arrT': '2024-10-22T21:19:12',\n",
       "      'isApp': '1',\n",
       "      'isDly': '0',\n",
       "      'flags': None,\n",
       "      'lat': '41.7836',\n",
       "      'lon': '-87.63107',\n",
       "      'heading': '178'},\n",
       "     {'rn': '830',\n",
       "      'destSt': '30089',\n",
       "      'destNm': '95th/Dan Ryan',\n",
       "      'trDr': '5',\n",
       "      'nextStaId': '40190',\n",
       "      'nextStpId': '30037',\n",
       "      'nextStaNm': 'Sox-35th',\n",
       "      'prdt': '2024-10-22T21:16:41',\n",
       "      'arrT': '2024-10-22T21:19:41',\n",
       "      'isApp': '0',\n",
       "      'isDly': '0',\n",
       "      'flags': None,\n",
       "      'lat': '41.85323',\n",
       "      'lon': '-87.63098',\n",
       "      'heading': '163'},\n",
       "     {'rn': '831',\n",
       "      'destSt': '30089',\n",
       "      'destNm': '95th/Dan Ryan',\n",
       "      'trDr': '5',\n",
       "      'nextStaId': '40330',\n",
       "      'nextStpId': '30065',\n",
       "      'nextStaNm': 'Grand',\n",
       "      'prdt': '2024-10-22T21:18:15',\n",
       "      'arrT': '2024-10-22T21:19:15',\n",
       "      'isApp': '1',\n",
       "      'isDly': '0',\n",
       "      'flags': None,\n",
       "      'lat': '41.89417',\n",
       "      'lon': '-87.62809',\n",
       "      'heading': '178'},\n",
       "     {'rn': '832',\n",
       "      'destSt': '30089',\n",
       "      'destNm': '95th/Dan Ryan',\n",
       "      'trDr': '5',\n",
       "      'nextStaId': '40650',\n",
       "      'nextStpId': '30126',\n",
       "      'nextStaNm': 'North/Clybourn',\n",
       "      'prdt': '2024-10-22T21:17:56',\n",
       "      'arrT': '2024-10-22T21:21:56',\n",
       "      'isApp': '0',\n",
       "      'isDly': '0',\n",
       "      'flags': None,\n",
       "      'lat': '41.92505',\n",
       "      'lon': '-87.65287',\n",
       "      'heading': '178'},\n",
       "     {'rn': '833',\n",
       "      'destSt': '30089',\n",
       "      'destNm': '95th/Dan Ryan',\n",
       "      'trDr': '5',\n",
       "      'nextStaId': '41380',\n",
       "      'nextStpId': '30268',\n",
       "      'nextStaNm': 'Bryn Mawr',\n",
       "      'prdt': '2024-10-22T21:17:24',\n",
       "      'arrT': '2024-10-22T21:19:24',\n",
       "      'isApp': '0',\n",
       "      'isDly': '0',\n",
       "      'flags': None,\n",
       "      'lat': '41.99026',\n",
       "      'lon': '-87.65908',\n",
       "      'heading': '177'},\n",
       "     {'rn': '919',\n",
       "      'destSt': '30089',\n",
       "      'destNm': '95th/Dan Ryan',\n",
       "      'trDr': '5',\n",
       "      'nextStaId': '41430',\n",
       "      'nextStpId': '30276',\n",
       "      'nextStaNm': '87th',\n",
       "      'prdt': '2024-10-22T21:17:37',\n",
       "      'arrT': '2024-10-22T21:19:37',\n",
       "      'isApp': '0',\n",
       "      'isDly': '0',\n",
       "      'flags': None,\n",
       "      'lat': '41.75042',\n",
       "      'lon': '-87.62518',\n",
       "      'heading': '179'},\n",
       "     {'rn': '921',\n",
       "      'destSt': '30173',\n",
       "      'destNm': 'Howard',\n",
       "      'trDr': '1',\n",
       "      'nextStaId': '41420',\n",
       "      'nextStpId': '30273',\n",
       "      'nextStaNm': 'Addison',\n",
       "      'prdt': '2024-10-22T21:17:55',\n",
       "      'arrT': '2024-10-22T21:18:55',\n",
       "      'isApp': '1',\n",
       "      'isDly': '0',\n",
       "      'flags': None,\n",
       "      'lat': '41.94525',\n",
       "      'lon': '-87.65353',\n",
       "      'heading': '358'},\n",
       "     {'rn': '923',\n",
       "      'destSt': '30089',\n",
       "      'destNm': '95th/Dan Ryan',\n",
       "      'trDr': '5',\n",
       "      'nextStaId': '41400',\n",
       "      'nextStpId': '30270',\n",
       "      'nextStaNm': 'Roosevelt',\n",
       "      'prdt': '2024-10-22T21:18:14',\n",
       "      'arrT': '2024-10-22T21:19:14',\n",
       "      'isApp': '1',\n",
       "      'isDly': '0',\n",
       "      'flags': None,\n",
       "      'lat': '41.87541',\n",
       "      'lon': '-87.62753',\n",
       "      'heading': '178'},\n",
       "     {'rn': '924',\n",
       "      'destSt': '30089',\n",
       "      'destNm': '95th/Dan Ryan',\n",
       "      'trDr': '5',\n",
       "      'nextStaId': '41420',\n",
       "      'nextStpId': '30274',\n",
       "      'nextStaNm': 'Addison',\n",
       "      'prdt': '2024-10-22T21:18:07',\n",
       "      'arrT': '2024-10-22T21:19:07',\n",
       "      'isApp': '1',\n",
       "      'isDly': '0',\n",
       "      'flags': None,\n",
       "      'lat': '41.952',\n",
       "      'lon': '-87.65366',\n",
       "      'heading': '184'},\n",
       "     {'rn': '926',\n",
       "      'destSt': '30173',\n",
       "      'destNm': 'Howard',\n",
       "      'trDr': '1',\n",
       "      'nextStaId': '41200',\n",
       "      'nextStpId': '30229',\n",
       "      'nextStaNm': 'Argyle',\n",
       "      'prdt': '2024-10-22T21:18:13',\n",
       "      'arrT': '2024-10-22T21:19:13',\n",
       "      'isApp': '1',\n",
       "      'isDly': '0',\n",
       "      'flags': None,\n",
       "      'lat': '41.97345',\n",
       "      'lon': '-87.65853',\n",
       "      'heading': '358'},\n",
       "     {'rn': '927',\n",
       "      'destSt': '30173',\n",
       "      'destNm': 'Howard',\n",
       "      'trDr': '1',\n",
       "      'nextStaId': '41220',\n",
       "      'nextStpId': '30233',\n",
       "      'nextStaNm': 'Fullerton',\n",
       "      'prdt': '2024-10-22T21:17:45',\n",
       "      'arrT': '2024-10-22T21:21:45',\n",
       "      'isApp': '0',\n",
       "      'isDly': '0',\n",
       "      'flags': None,\n",
       "      'lat': '41.91065',\n",
       "      'lon': '-87.64918',\n",
       "      'heading': '305'},\n",
       "     {'rn': '928',\n",
       "      'destSt': '30173',\n",
       "      'destNm': 'Howard',\n",
       "      'trDr': '1',\n",
       "      'nextStaId': '40630',\n",
       "      'nextStpId': '30121',\n",
       "      'nextStaNm': 'Clark/Division',\n",
       "      'prdt': '2024-10-22T21:18:05',\n",
       "      'arrT': '2024-10-22T21:20:05',\n",
       "      'isApp': '0',\n",
       "      'isDly': '0',\n",
       "      'flags': None,\n",
       "      'lat': '41.89667',\n",
       "      'lon': '-87.62818',\n",
       "      'heading': '357'},\n",
       "     {'rn': '929',\n",
       "      'destSt': '30173',\n",
       "      'destNm': 'Howard',\n",
       "      'trDr': '1',\n",
       "      'nextStaId': '41230',\n",
       "      'nextStpId': '30237',\n",
       "      'nextStaNm': '47th',\n",
       "      'prdt': '2024-10-22T21:18:13',\n",
       "      'arrT': '2024-10-22T21:19:13',\n",
       "      'isApp': '1',\n",
       "      'isDly': '0',\n",
       "      'flags': None,\n",
       "      'lat': '41.79726',\n",
       "      'lon': '-87.63123',\n",
       "      'heading': '358'},\n",
       "     {'rn': '930',\n",
       "      'destSt': '30173',\n",
       "      'destNm': 'Howard',\n",
       "      'trDr': '1',\n",
       "      'nextStaId': '40990',\n",
       "      'nextStpId': '30191',\n",
       "      'nextStaNm': '69th',\n",
       "      'prdt': '2024-10-22T21:18:15',\n",
       "      'arrT': '2024-10-22T21:19:15',\n",
       "      'isApp': '1',\n",
       "      'isDly': '0',\n",
       "      'flags': None,\n",
       "      'lat': '41.75979',\n",
       "      'lon': '-87.62561',\n",
       "      'heading': '358'}]}]}}"
      ]
     },
     "execution_count": 3,
     "metadata": {},
     "output_type": "execute_result"
    }
   ],
   "source": [
    "fetch_latest_etas('red')"
   ]
  },
  {
   "cell_type": "markdown",
   "id": "1ed3dc07",
   "metadata": {},
   "source": [
    "## Create Kafka topic"
   ]
  },
  {
   "cell_type": "code",
   "execution_count": 4,
   "id": "d1743947",
   "metadata": {},
   "outputs": [
    {
     "data": {
      "text/plain": [
       "CreateTopicsResponse_v3(throttle_time_ms=0, topic_errors=[(topic='train-etas', error_code=0, error_message=None)])"
      ]
     },
     "execution_count": 4,
     "metadata": {},
     "output_type": "execute_result"
    }
   ],
   "source": [
    "admin_client = KafkaAdminClient(\n",
    "    bootstrap_servers=\"localhost:9092\",  # Replace with your Kafka broker address\n",
    "#     client_id=\"my-admin-client\"\n",
    ")\n",
    "\n",
    "topic_name = \"train-etas\"\n",
    "num_partitions = 1\n",
    "replication_factor = 1\n",
    "\n",
    "new_topic = NewTopic(name=topic_name, num_partitions=num_partitions, replication_factor=replication_factor)\n",
    "\n",
    "admin_client.create_topics([new_topic])"
   ]
  },
  {
   "cell_type": "markdown",
   "id": "e34b0bdf",
   "metadata": {},
   "source": [
    "## Set up Kafka producer"
   ]
  },
  {
   "cell_type": "code",
   "execution_count": 5,
   "id": "f1b5b825",
   "metadata": {},
   "outputs": [],
   "source": [
    "producer = KafkaProducer(bootstrap_servers='localhost:9092',\n",
    "                        value_serializer=lambda v: json.dumps(v).encode('utf-8'))"
   ]
  },
  {
   "cell_type": "markdown",
   "id": "f18a49b8",
   "metadata": {},
   "source": [
    "## Set up Kafka consumer to print messages in topic"
   ]
  },
  {
   "cell_type": "code",
   "execution_count": null,
   "id": "03311fc6",
   "metadata": {},
   "outputs": [],
   "source": [
    "from kafka import KafkaConsumer\n",
    "\n",
    "# To consume latest messages and auto-commit offsets\n",
    "consumer = KafkaConsumer('train-etas',\n",
    "                         bootstrap_servers=['localhost:9092'])\n",
    "\n",
    "for message in consumer:\n",
    "    print(message.value.decode('utf-8'))"
   ]
  },
  {
   "cell_type": "markdown",
   "id": "6b1f1dcd",
   "metadata": {},
   "source": [
    "## PyFlink "
   ]
  },
  {
   "cell_type": "code",
   "execution_count": null,
   "id": "311b902d",
   "metadata": {},
   "outputs": [],
   "source": [
    "from pyflink.datastream import StreamExecutionEnvironment\n",
    "from pyflink.datastream.connectors import FlinkKafkaConsumer\n",
    "from pyflink.common.serialization import SimpleStringSchema\n",
    "from pyflink.common.typeinfo import Types\n",
    "import json\n",
    "\n",
    "env = StreamExecutionEnvironment.get_execution_environment()\n",
    "\n",
    "kafka_consumer = FlinkKafkaConsumer(\n",
    "    topics=['train-etas'],\n",
    "    deserialization_schema=SimpleStringSchema(),\n",
    "    properties={'bootstrap.servers': 'localhost:9092'}\n",
    ")\n",
    "\n",
    "data_stream = env.add_source(kafka_consumer)\n",
    "\n",
    "data_stream.print()"
   ]
  },
  {
   "cell_type": "code",
   "execution_count": null,
   "id": "06f43cd8",
   "metadata": {},
   "outputs": [],
   "source": []
  },
  {
   "cell_type": "markdown",
   "id": "011d7bba",
   "metadata": {},
   "source": [
    "## Poll api and send"
   ]
  },
  {
   "cell_type": "code",
   "execution_count": 6,
   "id": "d159bd4b",
   "metadata": {},
   "outputs": [],
   "source": [
    "def poll_api_and_send(train_line):\n",
    "    while True:\n",
    "        latest_data = fetch_latest_etas(train_line)\n",
    "        producer.send('train-etas', latest_data)\n",
    "        print('sent latest train eta data')\n",
    "        \n",
    "        time.sleep(30)"
   ]
  },
  {
   "cell_type": "code",
   "execution_count": null,
   "id": "4e196052",
   "metadata": {},
   "outputs": [
    {
     "name": "stdout",
     "output_type": "stream",
     "text": [
      "sent latest train eta data\n",
      "sent latest train eta data\n",
      "sent latest train eta data\n",
      "sent latest train eta data\n",
      "sent latest train eta data\n"
     ]
    }
   ],
   "source": [
    "poll_api_and_send('red')"
   ]
  },
  {
   "cell_type": "code",
   "execution_count": null,
   "id": "0a58ec8e",
   "metadata": {},
   "outputs": [],
   "source": []
  }
 ],
 "metadata": {
  "kernelspec": {
   "display_name": "Python 3",
   "language": "python",
   "name": "python3"
  },
  "language_info": {
   "codemirror_mode": {
    "name": "ipython",
    "version": 3
   },
   "file_extension": ".py",
   "mimetype": "text/x-python",
   "name": "python",
   "nbconvert_exporter": "python",
   "pygments_lexer": "ipython3",
   "version": "3.8.8"
  }
 },
 "nbformat": 4,
 "nbformat_minor": 5
}
