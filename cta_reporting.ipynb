{
 "cells": [
  {
   "cell_type": "code",
   "execution_count": 15,
   "id": "9a79959d",
   "metadata": {},
   "outputs": [],
   "source": [
    "import requests\n",
    "import json\n",
    "import xml.etree.ElementTree as ElementTree\n",
    "import xmltodict\n",
    "import sqlite3\n",
    "import mysql.connector\n",
    "from kafka import KafkaProducer, KafkaConsumer\n",
    "from kafka.admin import KafkaAdminClient, NewTopic\n",
    "import json\n",
    "import time\n",
    "\n",
    "from datetime import datetime, timedelta\n",
    "\n",
    "from config import CTA_API_KEY"
   ]
  },
  {
   "cell_type": "markdown",
   "id": "7e19e023",
   "metadata": {},
   "source": [
    "## Arrivals API"
   ]
  },
  {
   "cell_type": "code",
   "execution_count": null,
   "id": "06519288",
   "metadata": {},
   "outputs": [],
   "source": [
    "params = {'mapid': 40630,\n",
    "         'stpid': 30122,\n",
    "          'max': 3,\n",
    "         'key': CTA_API_KEY,\n",
    "         'outputType':'JSON'}"
   ]
  },
  {
   "cell_type": "code",
   "execution_count": null,
   "id": "69cd1553",
   "metadata": {},
   "outputs": [],
   "source": [
    "response = requests.get(\"http://lapi.transitchicago.com/api/1.0/ttarrivals.aspx\", params=params)"
   ]
  },
  {
   "cell_type": "code",
   "execution_count": null,
   "id": "2c3f02ff",
   "metadata": {},
   "outputs": [],
   "source": [
    "response.json()"
   ]
  },
  {
   "cell_type": "code",
   "execution_count": null,
   "id": "8ec9fb9f",
   "metadata": {
    "scrolled": true
   },
   "outputs": [],
   "source": [
    "root = ElementTree.fromstring(response.text)"
   ]
  },
  {
   "cell_type": "code",
   "execution_count": null,
   "id": "1e63632b",
   "metadata": {
    "scrolled": true
   },
   "outputs": [],
   "source": [
    "# child = \n",
    "root.getchildren()"
   ]
  },
  {
   "cell_type": "code",
   "execution_count": null,
   "id": "ac4e27b3",
   "metadata": {},
   "outputs": [],
   "source": [
    "child.text"
   ]
  },
  {
   "cell_type": "code",
   "execution_count": null,
   "id": "dba4a111",
   "metadata": {},
   "outputs": [],
   "source": [
    "def xml_to_tree(node):\n",
    "    curr = {}\n",
    "    eta_num = 1\n",
    "    for child in node.getchildren():\n",
    "        child_tag = child.tag\n",
    "        if child.getchildren():\n",
    "            if child_tag == 'eta':\n",
    "                child_tag += f'_{eta_num}'\n",
    "                eta_num += 1\n",
    "            curr[child_tag] = xml_to_tree(child)\n",
    "        else:\n",
    "            curr[child_tag] = child.text\n",
    "    \n",
    "    return curr"
   ]
  },
  {
   "cell_type": "code",
   "execution_count": null,
   "id": "7a2b3942",
   "metadata": {},
   "outputs": [],
   "source": [
    "response.text"
   ]
  },
  {
   "cell_type": "code",
   "execution_count": null,
   "id": "9790a471",
   "metadata": {
    "scrolled": false
   },
   "outputs": [],
   "source": [
    "print(xml_to_tree(root))"
   ]
  },
  {
   "cell_type": "code",
   "execution_count": null,
   "id": "2cf11231",
   "metadata": {},
   "outputs": [],
   "source": [
    "data_dict = xmltodict.parse(response.content)"
   ]
  },
  {
   "cell_type": "markdown",
   "id": "94d69137",
   "metadata": {},
   "source": [
    "## Follow this train API"
   ]
  },
  {
   "cell_type": "code",
   "execution_count": null,
   "id": "7073cd59",
   "metadata": {},
   "outputs": [],
   "source": [
    "params = {'runnumber':831,\n",
    "         'key': CTA_API_KEY,\n",
    "         'outputType':'JSON'}"
   ]
  },
  {
   "cell_type": "code",
   "execution_count": null,
   "id": "105f34cb",
   "metadata": {},
   "outputs": [],
   "source": [
    "response = requests.get(\"https://lapi.transitchicago.com/api/1.0/ttfollow.aspx\", params=params)"
   ]
  },
  {
   "cell_type": "code",
   "execution_count": null,
   "id": "c9c82c66",
   "metadata": {},
   "outputs": [],
   "source": [
    "response.json()"
   ]
  },
  {
   "cell_type": "markdown",
   "id": "bddfdb1a",
   "metadata": {},
   "source": [
    "## Locations API"
   ]
  },
  {
   "cell_type": "code",
   "execution_count": null,
   "id": "1e61d647",
   "metadata": {},
   "outputs": [],
   "source": [
    "params = {'rt':'red',\n",
    "         'key': CTA_API_KEY,\n",
    "         'outputType':'JSON'}"
   ]
  },
  {
   "cell_type": "code",
   "execution_count": null,
   "id": "2818551f",
   "metadata": {},
   "outputs": [],
   "source": [
    "response = requests.get(\"https://lapi.transitchicago.com/api/1.0/ttpositions.aspx\", params=params)"
   ]
  },
  {
   "cell_type": "code",
   "execution_count": null,
   "id": "a30f2357",
   "metadata": {},
   "outputs": [],
   "source": [
    "response.json()"
   ]
  },
  {
   "cell_type": "markdown",
   "id": "7ad3fe28",
   "metadata": {},
   "source": [
    "## Database for storing train run delays per stop"
   ]
  },
  {
   "cell_type": "markdown",
   "id": "ee56bbde",
   "metadata": {},
   "source": [
    "### Sqlite"
   ]
  },
  {
   "cell_type": "code",
   "execution_count": null,
   "id": "f2cc64e6",
   "metadata": {},
   "outputs": [],
   "source": [
    "conn = sqlite3.connect(\"cta_trains.db\")\n",
    "cur = conn.cursor()"
   ]
  },
  {
   "cell_type": "code",
   "execution_count": null,
   "id": "82a303ae",
   "metadata": {},
   "outputs": [],
   "source": [
    "# Create train_delays table\n",
    "cur.execute(\"\"\"\n",
    "create table train_delays\n",
    "(train_line string, run_number int, day date,\n",
    "previous_station string, next_station string, \n",
    "delay_in_minutes float)\n",
    "\"\"\")"
   ]
  },
  {
   "cell_type": "markdown",
   "id": "fbd89476",
   "metadata": {},
   "source": [
    "### MySQL"
   ]
  },
  {
   "cell_type": "code",
   "execution_count": 4,
   "id": "9ff30879",
   "metadata": {},
   "outputs": [],
   "source": [
    "mydb = mysql.connector.connect(\n",
    "  host=\"localhost\",\n",
    "  port=3306,\n",
    "  user=\"myuser\",\n",
    "  password=\"mypassword\",\n",
    "  database=\"mydatabase\"\n",
    ")"
   ]
  },
  {
   "cell_type": "code",
   "execution_count": 5,
   "id": "6d1c484a",
   "metadata": {},
   "outputs": [
    {
     "name": "stdout",
     "output_type": "stream",
     "text": [
      "('information_schema',)\n",
      "('mydatabase',)\n",
      "('performance_schema',)\n"
     ]
    }
   ],
   "source": [
    "mycursor = mydb.cursor()\n",
    "\n",
    "mycursor.execute(\"SHOW DATABASES\")\n",
    "\n",
    "for x in mycursor:\n",
    "  print(x)"
   ]
  },
  {
   "cell_type": "markdown",
   "id": "1849c070",
   "metadata": {},
   "source": [
    "### Train delays table"
   ]
  },
  {
   "cell_type": "code",
   "execution_count": null,
   "id": "0761244f",
   "metadata": {},
   "outputs": [],
   "source": [
    "mycursor.execute(\"\"\"\n",
    "create table train_delays\n",
    "(train_line VARCHAR(10), run_number VARCHAR(10), day date,\n",
    "previous_station VARCHAR(30), next_station VARCHAR(30), end_station VARCHAR(30),\n",
    "delay_in_minutes float, original_eta timestamp, latest_eta timestamp)\n",
    "\"\"\")"
   ]
  },
  {
   "cell_type": "code",
   "execution_count": null,
   "id": "aba1cf6a",
   "metadata": {},
   "outputs": [],
   "source": [
    "# mycursor.execute(\"\"\"\n",
    "# alter table train_delays\n",
    "# add end_station VARCHAR(30)\n",
    "# \"\"\")"
   ]
  },
  {
   "cell_type": "code",
   "execution_count": null,
   "id": "b4488714",
   "metadata": {},
   "outputs": [],
   "source": [
    "mycursor.execute(\"\"\"\n",
    "select \n",
    "*\n",
    "from train_delays\n",
    "order by day desc, delay_in_minutes desc\n",
    "\"\"\")\n",
    "# train_line, run_number, previous_station,\n",
    "# next_station,\n",
    "# delay_in_minutes, date_format(original_eta, '%m/%d/%Y %H:%i:%S'),\n",
    "# date_format(latest_eta, '%m/%d/%Y %H:%i:%S')\n",
    "\n",
    "result = mycursor.fetchall()\n",
    "\n",
    "for x in result:\n",
    "    print(x)"
   ]
  },
  {
   "cell_type": "code",
   "execution_count": null,
   "id": "b43800a5",
   "metadata": {},
   "outputs": [],
   "source": [
    "# mycursor.execute(\"\"\"drop table train_delays\"\"\")"
   ]
  },
  {
   "cell_type": "markdown",
   "id": "bf33b884",
   "metadata": {},
   "source": [
    "### Notifications table"
   ]
  },
  {
   "cell_type": "code",
   "execution_count": null,
   "id": "13c91ffd",
   "metadata": {},
   "outputs": [],
   "source": [
    "mycursor.execute(\"\"\"\n",
    "create table delay_notifications\n",
    "(notification_id int NOT NULL AUTO_INCREMENT, train_line VARCHAR(10), \n",
    "station VARCHAR(30), end_station VARCHAR(30), num_delays int, alert_time timestamp,\n",
    "notification_sent boolean, PRIMARY KEY(notification_id))\n",
    "\"\"\")"
   ]
  },
  {
   "cell_type": "code",
   "execution_count": null,
   "id": "2ec9fef9",
   "metadata": {},
   "outputs": [],
   "source": [
    "# mycursor.execute(\"\"\"drop table delay_notifications\"\"\")"
   ]
  },
  {
   "cell_type": "markdown",
   "id": "ff5e2220",
   "metadata": {},
   "source": [
    "### Subscriptions table"
   ]
  },
  {
   "cell_type": "code",
   "execution_count": null,
   "id": "e2767824",
   "metadata": {},
   "outputs": [],
   "source": [
    "mycursor.execute(\"\"\"\n",
    "create table station_subscriptions\n",
    "(subscription_id int NOT NULL AUTO_INCREMENT, user_id int, \n",
    "train_line VARCHAR(10), station VARCHAR(30),\n",
    "PRIMARY KEY (subscription_id))\n",
    "\"\"\")"
   ]
  },
  {
   "cell_type": "code",
   "execution_count": null,
   "id": "1708b682",
   "metadata": {},
   "outputs": [],
   "source": [
    "# mycursor.execute(\"\"\"drop table station_subscriptions\"\"\")"
   ]
  },
  {
   "cell_type": "markdown",
   "id": "91bcee7d",
   "metadata": {},
   "source": [
    "### Add subscriptions"
   ]
  },
  {
   "cell_type": "code",
   "execution_count": null,
   "id": "d007de13",
   "metadata": {},
   "outputs": [],
   "source": [
    "# Red Line stops\n",
    "red_line_stops = [\"Howard\", \"Jarvis\", \"Morse\", \n",
    "    \"Loyola\", \"Granville\", \"Thorndale\", \"Bryn Mawr\", \"Argyle\", \n",
    "    \"Wilson\", \"Sheridan\", \"Addison\", \"Belmont\", \"Fullerton\", \n",
    "    \"North/Clybourn\", \"Clark/Division\", \"Chicago\", \"Grand\", \n",
    "    \"Lake\", \"Monroe\", \"Jackson\", \"Harrison\", \n",
    "    \"Roosevelt\", \"Cermak-Chinatown\", \"Sox-35th\", \"47th\", \n",
    "    \"Garfield\", \"63rd\", \"69th\", \"79th\", \"87th\", \"95th/Dan Ryan\"]"
   ]
  },
  {
   "cell_type": "code",
   "execution_count": null,
   "id": "3f5e2619",
   "metadata": {},
   "outputs": [],
   "source": [
    "for stop in red_line_stops:\n",
    "    mycursor.execute(f\"\"\"\n",
    "    insert into station_subscriptions values\n",
    "    (null, 1, 'Red Line', '{stop}')\n",
    "    \"\"\")\n",
    "\n",
    "    mydb.commit()  # Commit the changes"
   ]
  },
  {
   "cell_type": "code",
   "execution_count": null,
   "id": "164b1e16",
   "metadata": {},
   "outputs": [],
   "source": [
    "mycursor.execute(\"\"\"\n",
    "select *\n",
    "from station_subscriptions\n",
    "\"\"\")\n",
    "\n",
    "result = mycursor.fetchall()\n",
    "\n",
    "for x in result:\n",
    "    print(x)"
   ]
  },
  {
   "cell_type": "markdown",
   "id": "87f3f06f",
   "metadata": {},
   "source": [
    "### Users table"
   ]
  },
  {
   "cell_type": "code",
   "execution_count": null,
   "id": "df86bec6",
   "metadata": {},
   "outputs": [],
   "source": [
    "mycursor.execute(\"\"\"\n",
    "create table users\n",
    "(user_id int NOT NULL AUTO_INCREMENT, first_name VARCHAR(30), last_name VARCHAR(30),\n",
    "email VARCHAR(30), PRIMARY KEY(user_id))\n",
    "\"\"\")"
   ]
  },
  {
   "cell_type": "markdown",
   "id": "fc93a344",
   "metadata": {},
   "source": [
    "### Add users"
   ]
  },
  {
   "cell_type": "code",
   "execution_count": null,
   "id": "e2f57589",
   "metadata": {},
   "outputs": [],
   "source": [
    "mycursor.execute(\"\"\"\n",
    "insert into users values\n",
    "(null, 'Jesse', 'Moderwell', 'jesse.moderwell@gmail.com')\n",
    "\"\"\")\n",
    "\n",
    "mydb.commit()  # Commit the changes"
   ]
  },
  {
   "cell_type": "code",
   "execution_count": 4,
   "id": "3b1fb5e5",
   "metadata": {},
   "outputs": [
    {
     "name": "stdout",
     "output_type": "stream",
     "text": [
      "(1, 'Jesse', 'Moderwell', 'jesse.moderwell@gmail.com')\n"
     ]
    }
   ],
   "source": [
    "mycursor.execute(\"\"\"\n",
    "select *\n",
    "from users\n",
    "\"\"\")\n",
    "\n",
    "result = mycursor.fetchall()\n",
    "\n",
    "for x in result:\n",
    "    print(x)"
   ]
  },
  {
   "cell_type": "markdown",
   "id": "0eba6f49",
   "metadata": {},
   "source": [
    "## Check train delays for new notifications to send"
   ]
  },
  {
   "cell_type": "code",
   "execution_count": null,
   "id": "a8bd4813",
   "metadata": {
    "scrolled": true
   },
   "outputs": [],
   "source": [
    "# Get delays by train line/ station\n",
    "mycursor.execute(\"\"\"\n",
    "select train_line, next_station, count(*) as delays\n",
    "from train_delays\n",
    "where delay_in_minutes >= 5\n",
    "group by train_line, next_station\n",
    "\"\"\")\n",
    "\n",
    "result = mycursor.fetchall()\n",
    "\n",
    "for x in result:\n",
    "    print(x)"
   ]
  },
  {
   "cell_type": "code",
   "execution_count": null,
   "id": "9d2735f9",
   "metadata": {},
   "outputs": [],
   "source": [
    "curr_time = datetime.now()"
   ]
  },
  {
   "cell_type": "code",
   "execution_count": null,
   "id": "9fb10f2a",
   "metadata": {},
   "outputs": [],
   "source": [
    "curr_time = datetime.strftime(datetime.now(), \"%Y-%m-%d %H:%M:%S\")\n",
    "print(curr_time)"
   ]
  },
  {
   "cell_type": "code",
   "execution_count": null,
   "id": "ad145d56",
   "metadata": {
    "scrolled": true
   },
   "outputs": [],
   "source": [
    "curr_time = datetime.strftime(datetime.now(), \"%Y-%m-%d %H:%M:%S\")\n",
    "for train_line, station, num_delays in result:\n",
    "    if num_delays >= 3:\n",
    "        query = f\"\"\"\n",
    "        insert into delay_notifications values (null, '{train_line}', '{station}',\n",
    "        {num_delays}, '{curr_time}', False);\n",
    "        \"\"\"\n",
    "        print(query)\n",
    "        mycursor.execute(query)\n",
    "        "
   ]
  },
  {
   "cell_type": "code",
   "execution_count": null,
   "id": "17a236f0",
   "metadata": {},
   "outputs": [],
   "source": [
    "mycursor.execute(\"\"\"\n",
    "select notification_id, train_line, station, num_delays, date_format(alert_time, '%m/%d/%Y %H:%i'),\n",
    "notification_sent\n",
    "from delay_notifications\n",
    "\"\"\")\n",
    "\n",
    "result = mycursor.fetchall()\n",
    "\n",
    "for x in result:\n",
    "    print(x)"
   ]
  },
  {
   "cell_type": "markdown",
   "id": "78a2bac2",
   "metadata": {},
   "source": [
    "### Check notifications and send to subscribers"
   ]
  },
  {
   "cell_type": "code",
   "execution_count": 5,
   "id": "92b4ffc9",
   "metadata": {},
   "outputs": [
    {
     "name": "stdout",
     "output_type": "stream",
     "text": [
      "[(16, 'Red Line', 'Morse', '95th/Dan Ryan', 2, datetime.datetime(2024, 11, 19, 17, 50, 21), 0), (17, 'Red Line', 'Roosevelt', 'Howard', 2, datetime.datetime(2024, 11, 19, 21, 4, 2), 0)]\n"
     ]
    }
   ],
   "source": [
    "since_time = datetime.now() - timedelta(hours=3)\n",
    "\n",
    "mycursor.execute(\"\"\"\n",
    "select *\n",
    "from delay_notifications\n",
    "where notification_sent = False\n",
    "\"\"\")\n",
    "\n",
    "result = mycursor.fetchall()\n",
    "\n",
    "print(result)\n",
    "\n",
    "curr_notifications = [[notification[1], notification[2], notification[3], notification[4]] for notification in result]"
   ]
  },
  {
   "cell_type": "code",
   "execution_count": 19,
   "id": "d4062e81",
   "metadata": {},
   "outputs": [
    {
     "name": "stdout",
     "output_type": "stream",
     "text": [
      "\n",
      "select n.notification_id, s.train_line, s.station, n.end_station, u.email, n.num_delays\n",
      "from station_subscriptions s\n",
      "inner join delay_notifications n on (s.train_line, s.station) = (n.train_line, n.station)\n",
      "inner join users u on s.user_id = u.user_id\n",
      "where n.notification_sent = False\n",
      "and n.alert_time >= '2024-11-21 12:07:56'\n",
      "\n"
     ]
    }
   ],
   "source": [
    "since_time = (datetime.now() - timedelta(hours=1)).strftime(\"%Y-%m-%d %H:%M:%S\")\n",
    "\n",
    "query = f\"\"\"\n",
    "select n.notification_id, s.train_line, s.station, n.end_station, u.email, n.num_delays\n",
    "from station_subscriptions s\n",
    "inner join delay_notifications n on (s.train_line, s.station) = (n.train_line, n.station)\n",
    "inner join users u on s.user_id = u.user_id\n",
    "where n.notification_sent = False\n",
    "and n.alert_time >= '{since_time}'\n",
    "\"\"\"\n",
    "print(query)\n",
    "\n",
    "mycursor.execute(query)\n",
    "\n",
    "subscriber_notifications = mycursor.fetchall()\n"
   ]
  },
  {
   "cell_type": "code",
   "execution_count": 18,
   "id": "f2106099",
   "metadata": {},
   "outputs": [
    {
     "data": {
      "text/plain": [
       "[]"
      ]
     },
     "execution_count": 18,
     "metadata": {},
     "output_type": "execute_result"
    }
   ],
   "source": [
    "subscriber_notifications\n"
   ]
  },
  {
   "cell_type": "markdown",
   "id": "4ddd48b1",
   "metadata": {},
   "source": [
    "### Mark notification as sent"
   ]
  },
  {
   "cell_type": "code",
   "execution_count": null,
   "id": "9b7ea1bd",
   "metadata": {},
   "outputs": [],
   "source": [
    "# mycursor.execute(f\"\"\"\n",
    "# alter table delay_notifications\n",
    "# set notification_sent = True\n",
    "# where notification_id = '{notification[0]}'\n",
    "# \"\"\")\n",
    "\n",
    "# mydb.commit()\n"
   ]
  },
  {
   "cell_type": "markdown",
   "id": "2ec4b2e7",
   "metadata": {},
   "source": [
    "### Send notification email to subscribers"
   ]
  },
  {
   "cell_type": "code",
   "execution_count": 11,
   "id": "9faacb16",
   "metadata": {},
   "outputs": [],
   "source": [
    "from config import SERVICE_EMAIL, SERVICE_EMAIL_PASSWORD\n",
    "\n",
    "import smtplib, ssl\n",
    "from email.mime.text import MIMEText\n",
    "from email.mime.multipart import MIMEMultipart\n",
    "\n",
    "for notification in subscriber_notifications:\n",
    "\n",
    "    sender_email = SERVICE_EMAIL\n",
    "    receiver_email = notification[4]\n",
    "    password = SERVICE_EMAIL_PASSWORD\n",
    "\n",
    "    message = MIMEMultipart(\"alternative\")\n",
    "    message[\"Subject\"] = f\"{notification[1]} train(s) at {notification[2]} are delayed toward {notification[3]}\"\n",
    "    message[\"From\"] = SERVICE_EMAIL\n",
    "    message[\"To\"] = SERVICE_EMAIL\n",
    "\n",
    "    # Create the plain-text and HTML version of your message\n",
    "    text = f\"\"\"\n",
    "    There have been {notification[5]} delayed {notification[1]} train(s) at {notification[2]} toward {notification[3]}\n",
    "    in the last hour\n",
    "    \"\"\"\n",
    "\n",
    "    # Turn these into plain/html MIMEText objects\n",
    "    part1 = MIMEText(text, \"plain\")\n",
    "    # part2 = MIMEText(html, \"html\")\n",
    "\n",
    "    # Add HTML/plain-text parts to MIMEMultipart message\n",
    "    # The email client will try to render the last part first\n",
    "    message.attach(part1)\n",
    "    # message.attach(part2)\n",
    "\n",
    "    # Create secure connection with server and send email\n",
    "    context = ssl.create_default_context()\n",
    "    with smtplib.SMTP_SSL(\"smtp.gmail.com\", 465, context=context) as server:\n",
    "        server.login(sender_email, password)\n",
    "        server.sendmail(\n",
    "            sender_email, receiver_email, message.as_string()\n",
    "        )\n",
    "        \n",
    "    mycursor.execute(f\"\"\"\n",
    "    update delay_notifications\n",
    "    set notification_sent = True\n",
    "    where notification_id = {notification[0]}\n",
    "    \"\"\")\n",
    "\n",
    "    mydb.commit()"
   ]
  },
  {
   "cell_type": "markdown",
   "id": "bbe67d2b",
   "metadata": {},
   "source": [
    "## Fetch latest train data"
   ]
  },
  {
   "cell_type": "code",
   "execution_count": null,
   "id": "912af9c5",
   "metadata": {},
   "outputs": [],
   "source": [
    "def fetch_latest_etas(train_line: str):\n",
    "    params = {'rt':train_line,\n",
    "         'key': CTA_API_KEY,\n",
    "         'outputType':'JSON'}\n",
    "    \n",
    "    response = requests.get(\"https://lapi.transitchicago.com/api/1.0/ttpositions.aspx\", params=params)\n",
    "    \n",
    "    return response.json()"
   ]
  },
  {
   "cell_type": "code",
   "execution_count": null,
   "id": "bbd5595b",
   "metadata": {},
   "outputs": [],
   "source": [
    "fetch_latest_etas('red')"
   ]
  },
  {
   "cell_type": "markdown",
   "id": "1ed3dc07",
   "metadata": {},
   "source": [
    "## Create Kafka topic"
   ]
  },
  {
   "cell_type": "code",
   "execution_count": null,
   "id": "d1743947",
   "metadata": {
    "scrolled": true
   },
   "outputs": [],
   "source": [
    "admin_client = KafkaAdminClient(\n",
    "    bootstrap_servers=\"localhost:9092\",  # Replace with your Kafka broker address\n",
    "#     client_id=\"my-admin-client\"\n",
    ")\n",
    "\n",
    "topic_name = \"train-etas\"\n",
    "num_partitions = 1\n",
    "replication_factor = 1\n",
    "\n",
    "new_topic = NewTopic(name=topic_name, num_partitions=num_partitions, replication_factor=replication_factor)\n",
    "\n",
    "admin_client.create_topics([new_topic])"
   ]
  },
  {
   "cell_type": "markdown",
   "id": "5ac0ce63",
   "metadata": {},
   "source": [
    "## Delete Kafka Topic"
   ]
  },
  {
   "cell_type": "code",
   "execution_count": null,
   "id": "54abeb2e",
   "metadata": {},
   "outputs": [],
   "source": [
    "admin_client = KafkaAdminClient(\n",
    "    bootstrap_servers=\"localhost:9092\",  # Replace with your Kafka broker address\n",
    "#     client_id=\"my-admin-client\"\n",
    ")\n",
    "\n",
    "topic_name = 'train-etas'\n",
    "\n",
    "try:\n",
    "    admin_client.delete_topics([topic_name])\n",
    "    print(f\"Topic '{topic_name}' deleted successfully.\")\n",
    "except Exception as e:\n",
    "    print(f\"Error deleting topic '{topic_name}': {e}\")"
   ]
  },
  {
   "cell_type": "markdown",
   "id": "e34b0bdf",
   "metadata": {},
   "source": [
    "## Set up Kafka producer"
   ]
  },
  {
   "cell_type": "code",
   "execution_count": null,
   "id": "f1b5b825",
   "metadata": {},
   "outputs": [],
   "source": [
    "producer = KafkaProducer(bootstrap_servers='localhost:9092',\n",
    "                        value_serializer=lambda v: json.dumps(v).encode('utf-8'))"
   ]
  },
  {
   "cell_type": "markdown",
   "id": "f18a49b8",
   "metadata": {},
   "source": [
    "## Set up Kafka consumer to print messages in topic"
   ]
  },
  {
   "cell_type": "code",
   "execution_count": null,
   "id": "03311fc6",
   "metadata": {},
   "outputs": [],
   "source": [
    "from kafka import KafkaConsumer\n",
    "\n",
    "# To consume latest messages and auto-commit offsets\n",
    "consumer = KafkaConsumer('train-etas',\n",
    "                         bootstrap_servers=['localhost:9092'])\n",
    "\n",
    "for message in consumer:\n",
    "    print(message.value.decode('utf-8'))"
   ]
  },
  {
   "cell_type": "markdown",
   "id": "6b1f1dcd",
   "metadata": {},
   "source": [
    "## PyFlink "
   ]
  },
  {
   "cell_type": "code",
   "execution_count": null,
   "id": "311b902d",
   "metadata": {},
   "outputs": [],
   "source": [
    "from pyflink.datastream import StreamExecutionEnvironment\n",
    "from pyflink.datastream.connectors import FlinkKafkaConsumer\n",
    "from pyflink.common.serialization import SimpleStringSchema\n",
    "from pyflink.common.typeinfo import Types\n",
    "import json\n",
    "\n",
    "env = StreamExecutionEnvironment.get_execution_environment()\n",
    "\n",
    "kafka_consumer = FlinkKafkaConsumer(\n",
    "    topics=['train-etas'],\n",
    "    deserialization_schema=SimpleStringSchema(),\n",
    "    properties={'bootstrap.servers': 'localhost:9092'}\n",
    ")\n",
    "\n",
    "data_stream = env.add_source(kafka_consumer)\n",
    "\n",
    "data_stream.print()"
   ]
  },
  {
   "cell_type": "code",
   "execution_count": null,
   "id": "06f43cd8",
   "metadata": {},
   "outputs": [],
   "source": []
  },
  {
   "cell_type": "markdown",
   "id": "011d7bba",
   "metadata": {},
   "source": [
    "## Poll api and send"
   ]
  },
  {
   "cell_type": "code",
   "execution_count": null,
   "id": "d159bd4b",
   "metadata": {},
   "outputs": [],
   "source": [
    "def poll_api_and_send(train_line):\n",
    "    while True:\n",
    "        latest_data = fetch_latest_etas(train_line)\n",
    "        producer.send('train-etas', latest_data)\n",
    "        print('sent latest train eta data')\n",
    "        \n",
    "        time.sleep(30)"
   ]
  },
  {
   "cell_type": "code",
   "execution_count": null,
   "id": "4e196052",
   "metadata": {},
   "outputs": [],
   "source": [
    "poll_api_and_send('red')"
   ]
  },
  {
   "cell_type": "code",
   "execution_count": null,
   "id": "0a58ec8e",
   "metadata": {},
   "outputs": [],
   "source": []
  }
 ],
 "metadata": {
  "kernelspec": {
   "display_name": "Python 3",
   "language": "python",
   "name": "python3"
  },
  "language_info": {
   "codemirror_mode": {
    "name": "ipython",
    "version": 3
   },
   "file_extension": ".py",
   "mimetype": "text/x-python",
   "name": "python",
   "nbconvert_exporter": "python",
   "pygments_lexer": "ipython3",
   "version": "3.8.8"
  }
 },
 "nbformat": 4,
 "nbformat_minor": 5
}
